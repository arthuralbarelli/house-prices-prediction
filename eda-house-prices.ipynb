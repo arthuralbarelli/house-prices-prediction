{
 "cells": [
  {
   "cell_type": "markdown",
   "id": "1c4606f3-86c5-4e64-8914-15b6ed07b1ff",
   "metadata": {},
   "source": [
    "# Exploratory Data Analysis - House Prices"
   ]
  },
  {
   "cell_type": "markdown",
   "id": "9b792439-fff1-4b52-ab24-282f982f5dc8",
   "metadata": {},
   "source": [
    "## Loading packages"
   ]
  },
  {
   "cell_type": "code",
   "execution_count": 15,
   "id": "3edf367c-67b0-4104-ac97-dfe7dbfd1eac",
   "metadata": {},
   "outputs": [],
   "source": [
    "import pandas as pd\n",
    "import os\n",
    "import matplotlib.pyplot as plt\n",
    "import seaborn as sns\n",
    "from pathlib import Path"
   ]
  },
  {
   "cell_type": "code",
   "execution_count": 16,
   "id": "28e1a6e7-12d5-4550-b395-421c34106f6d",
   "metadata": {},
   "outputs": [],
   "source": [
    "if 'KAGGLE_KERNEL_RUN_TYPE' in os.environ:\n",
    "    # Kaggle-specific configuration\n",
    "    TEST_PATH = Path('/kaggle/input/house-prices-advanced-regression-techniques/test.csv')\n",
    "    TRAIN_PATH = Path('/kaggle/input/house-prices-advanced-regression-techniques/train.csv')\n",
    "else:\n",
    "    # Local configuration\n",
    "    TEST_PATH = Path('data/test.csv')\n",
    "    TRAIN_PATH = Path('data/train.csv')"
   ]
  },
  {
   "cell_type": "code",
   "execution_count": 17,
   "id": "bf7dad5f-6253-4b95-9652-f4fdf165e1fa",
   "metadata": {},
   "outputs": [],
   "source": [
    "house_prices_test_df = pd.read_csv(TEST_PATH)\n",
    "house_prices_train_df = pd.read_csv(TRAIN_PATH)"
   ]
  },
  {
   "cell_type": "markdown",
   "id": "2c6ac908-5bc2-4e6a-b70e-1d7ccc5df9b7",
   "metadata": {},
   "source": [
    "## Dataset Info"
   ]
  },
  {
   "cell_type": "code",
   "execution_count": 21,
   "id": "f2c4a724-37ce-456e-99f3-483af985c6e3",
   "metadata": {},
   "outputs": [
    {
     "name": "stdout",
     "output_type": "stream",
     "text": [
      "(1459, 80)\n",
      "(1460, 81)\n"
     ]
    }
   ],
   "source": [
    "print(house_prices_test_df.shape)\n",
    "print(house_prices_train_df.shape)"
   ]
  }
 ],
 "metadata": {
  "kernelspec": {
   "display_name": "Python 3 (ipykernel)",
   "language": "python",
   "name": "python3"
  },
  "language_info": {
   "codemirror_mode": {
    "name": "ipython",
    "version": 3
   },
   "file_extension": ".py",
   "mimetype": "text/x-python",
   "name": "python",
   "nbconvert_exporter": "python",
   "pygments_lexer": "ipython3",
   "version": "3.12.2"
  }
 },
 "nbformat": 4,
 "nbformat_minor": 5
}
